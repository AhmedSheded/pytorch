{
 "cells": [
  {
   "cell_type": "code",
   "execution_count": 16,
   "outputs": [],
   "source": [
    "import torch\n",
    "import torch.nn as nn\n",
    "import torch.nn.functional as F\n",
    "import matplotlib.pyplot as plt\n",
    "import torchvision\n",
    "from torchvision import transforms, datasets"
   ],
   "metadata": {
    "collapsed": false
   }
  },
  {
   "cell_type": "code",
   "execution_count": 3,
   "outputs": [],
   "source": [
    "train = datasets.MNIST('', train=True, download=True,\n",
    "                       transform=transforms.Compose([transforms.ToTensor()]))\n",
    "test = datasets.MNIST('', train=False, download=True,\n",
    "                      transform=transforms.Compose([transforms.ToTensor()]))"
   ],
   "metadata": {
    "collapsed": false
   }
  },
  {
   "cell_type": "code",
   "execution_count": 4,
   "outputs": [],
   "source": [
    "trainset = torch.utils.data.DataLoader(train, batch_size=10, shuffle=True)\n",
    "testset = torch.utils.data.DataLoader(test, batch_size=10, shuffle=True)"
   ],
   "metadata": {
    "collapsed": false
   }
  },
  {
   "cell_type": "code",
   "execution_count": 5,
   "outputs": [
    {
     "name": "stdout",
     "output_type": "stream",
     "text": [
      "[tensor([[[[0., 0., 0.,  ..., 0., 0., 0.],\n",
      "          [0., 0., 0.,  ..., 0., 0., 0.],\n",
      "          [0., 0., 0.,  ..., 0., 0., 0.],\n",
      "          ...,\n",
      "          [0., 0., 0.,  ..., 0., 0., 0.],\n",
      "          [0., 0., 0.,  ..., 0., 0., 0.],\n",
      "          [0., 0., 0.,  ..., 0., 0., 0.]]],\n",
      "\n",
      "\n",
      "        [[[0., 0., 0.,  ..., 0., 0., 0.],\n",
      "          [0., 0., 0.,  ..., 0., 0., 0.],\n",
      "          [0., 0., 0.,  ..., 0., 0., 0.],\n",
      "          ...,\n",
      "          [0., 0., 0.,  ..., 0., 0., 0.],\n",
      "          [0., 0., 0.,  ..., 0., 0., 0.],\n",
      "          [0., 0., 0.,  ..., 0., 0., 0.]]],\n",
      "\n",
      "\n",
      "        [[[0., 0., 0.,  ..., 0., 0., 0.],\n",
      "          [0., 0., 0.,  ..., 0., 0., 0.],\n",
      "          [0., 0., 0.,  ..., 0., 0., 0.],\n",
      "          ...,\n",
      "          [0., 0., 0.,  ..., 0., 0., 0.],\n",
      "          [0., 0., 0.,  ..., 0., 0., 0.],\n",
      "          [0., 0., 0.,  ..., 0., 0., 0.]]],\n",
      "\n",
      "\n",
      "        ...,\n",
      "\n",
      "\n",
      "        [[[0., 0., 0.,  ..., 0., 0., 0.],\n",
      "          [0., 0., 0.,  ..., 0., 0., 0.],\n",
      "          [0., 0., 0.,  ..., 0., 0., 0.],\n",
      "          ...,\n",
      "          [0., 0., 0.,  ..., 0., 0., 0.],\n",
      "          [0., 0., 0.,  ..., 0., 0., 0.],\n",
      "          [0., 0., 0.,  ..., 0., 0., 0.]]],\n",
      "\n",
      "\n",
      "        [[[0., 0., 0.,  ..., 0., 0., 0.],\n",
      "          [0., 0., 0.,  ..., 0., 0., 0.],\n",
      "          [0., 0., 0.,  ..., 0., 0., 0.],\n",
      "          ...,\n",
      "          [0., 0., 0.,  ..., 0., 0., 0.],\n",
      "          [0., 0., 0.,  ..., 0., 0., 0.],\n",
      "          [0., 0., 0.,  ..., 0., 0., 0.]]],\n",
      "\n",
      "\n",
      "        [[[0., 0., 0.,  ..., 0., 0., 0.],\n",
      "          [0., 0., 0.,  ..., 0., 0., 0.],\n",
      "          [0., 0., 0.,  ..., 0., 0., 0.],\n",
      "          ...,\n",
      "          [0., 0., 0.,  ..., 0., 0., 0.],\n",
      "          [0., 0., 0.,  ..., 0., 0., 0.],\n",
      "          [0., 0., 0.,  ..., 0., 0., 0.]]]]), tensor([1, 4, 6, 5, 6, 4, 5, 6, 5, 1])]\n"
     ]
    }
   ],
   "source": [
    "for data in trainset:\n",
    "    print(data)\n",
    "    break"
   ],
   "metadata": {
    "collapsed": false
   }
  },
  {
   "cell_type": "code",
   "execution_count": 7,
   "outputs": [
    {
     "name": "stdout",
     "output_type": "stream",
     "text": [
      "tensor(1)\n"
     ]
    }
   ],
   "source": [
    "x, y = data[0][0], data[1][0]\n",
    "\n",
    "print(y)"
   ],
   "metadata": {
    "collapsed": false
   }
  },
  {
   "cell_type": "code",
   "execution_count": 12,
   "outputs": [
    {
     "data": {
      "text/plain": "<Figure size 640x480 with 1 Axes>",
      "image/png": "[encoded data removed]"
     },
     "metadata": {},
     "output_type": "display_data"
    }
   ],
   "source": [
    "plt.imshow(data[0][0].view(28, 28))\n",
    "plt.show()"
   ],
   "metadata": {
    "collapsed": false
   }
  },
  {
   "cell_type": "code",
   "execution_count": 14,
   "outputs": [
    {
     "name": "stdout",
     "output_type": "stream",
     "text": [
      "{0: 5923, 1: 6742, 2: 5958, 3: 6131, 4: 5842, 5: 5421, 6: 5918, 7: 6265, 8: 5851, 9: 5949}\n"
     ]
    }
   ],
   "source": [
    "total = 0\n",
    "counter_dict = {0:0, 1:0, 2:0, 3:0, 4:0, 5:0, 6:0, 7:0, 8:0, 9:0}\n",
    "\n",
    "for data in trainset:\n",
    "    Xs, Ys = data\n",
    "    for y in Ys:\n",
    "        counter_dict[int(y)]+=1\n",
    "        total+=1\n",
    "print(counter_dict)"
   ],
   "metadata": {
    "collapsed": false
   }
  },
  {
   "cell_type": "code",
   "execution_count": 15,
   "outputs": [
    {
     "name": "stdout",
     "output_type": "stream",
     "text": [
      "0: 9.871666666666666\n",
      "1: 11.236666666666666\n",
      "2: 9.93\n",
      "3: 10.218333333333334\n",
      "4: 9.736666666666666\n",
      "5: 9.035\n",
      "6: 9.863333333333333\n",
      "7: 10.441666666666666\n",
      "8: 9.751666666666667\n",
      "9: 9.915000000000001\n"
     ]
    }
   ],
   "source": [
    "for i in counter_dict:\n",
    "    print(f'{i}: {counter_dict[i]/total*100}')"
   ],
   "metadata": {
    "collapsed": false
   }
  },
  {
   "cell_type": "code",
   "execution_count": 18,
   "outputs": [
    {
     "name": "stdout",
     "output_type": "stream",
     "text": [
      "Net(\n",
      "  (fc1): Linear(in_features=784, out_features=64, bias=True)\n",
      "  (fc2): Linear(in_features=64, out_features=64, bias=True)\n",
      "  (fc3): Linear(in_features=64, out_features=64, bias=True)\n",
      "  (fc4): Linear(in_features=64, out_features=10, bias=True)\n",
      ")\n"
     ]
    }
   ],
   "source": [
    "class Net(nn.Module):\n",
    "    def __init__(self):\n",
    "        super().__init__()\n",
    "        self.fc1 = nn.Linear(28*28, 64)\n",
    "        self.fc2 = nn.Linear(64, 64)\n",
    "        self.fc3 = nn.Linear(64, 64)\n",
    "        self.fc4 = nn.Linear(64, 10)\n",
    "\n",
    "    def forward(self, x):\n",
    "        x = F.relu(self.fc1(x))\n",
    "        x = F.relu(self.fc2(x))\n",
    "        x = F.relu(self.fc3(x))\n",
    "        x = self.fc4(x)\n",
    "\n",
    "        return F.log_softmax(x, dim=1)\n",
    "\n",
    "net = Net()\n",
    "print(net)"
   ],
   "metadata": {
    "collapsed": false
   }
  },
  {
   "cell_type": "code",
   "execution_count": 19,
   "outputs": [],
   "source": [
    "X = torch.rand((28, 28))"
   ],
   "metadata": {
    "collapsed": false
   }
  },
  {
   "cell_type": "code",
   "execution_count": 20,
   "outputs": [
    {
     "data": {
      "text/plain": "tensor([[5.1777e-01, 5.6057e-01, 5.4526e-01, 2.7875e-01, 5.3579e-01, 1.8222e-01,\n         6.7889e-01, 6.1489e-01, 3.9304e-01, 2.6743e-02, 3.2452e-01, 4.1948e-02,\n         9.0228e-01, 2.8479e-01, 9.6875e-01, 9.4827e-01, 8.6455e-01, 2.9866e-01,\n         2.2157e-01, 1.4542e-01, 2.5618e-01, 8.9006e-01, 6.6985e-01, 3.6363e-01,\n         4.1043e-01, 4.8893e-01, 8.0892e-01, 5.3092e-01],\n        [6.6447e-02, 1.0769e-01, 6.7029e-02, 8.5034e-01, 2.7320e-01, 3.0434e-02,\n         2.4161e-01, 7.9926e-01, 8.3769e-01, 1.0250e-01, 8.5718e-03, 8.8158e-01,\n         2.9519e-01, 5.9893e-01, 5.6856e-01, 4.0625e-01, 5.1346e-02, 6.3113e-01,\n         3.2784e-02, 4.1835e-01, 2.1573e-02, 6.6157e-01, 6.7502e-01, 2.9693e-01,\n         3.9051e-01, 8.0744e-01, 6.9418e-01, 2.0224e-01],\n        [1.1800e-01, 3.7447e-01, 8.4823e-01, 9.0174e-01, 4.5953e-01, 7.8476e-02,\n         7.0975e-01, 6.9774e-01, 6.4302e-01, 7.7097e-01, 8.5938e-01, 8.1447e-01,\n         8.3359e-01, 2.9128e-01, 9.0830e-01, 1.7770e-01, 6.8656e-02, 8.7458e-01,\n         2.2932e-01, 3.5212e-01, 6.6506e-01, 8.6903e-01, 9.6628e-01, 4.1781e-01,\n         7.7061e-01, 7.2803e-01, 4.1952e-01, 2.4480e-01],\n        [7.9892e-01, 1.0647e-01, 2.9706e-01, 7.7960e-01, 5.7002e-01, 3.8060e-02,\n         9.8618e-01, 5.7596e-01, 6.7794e-01, 6.4647e-01, 9.4728e-01, 1.1645e-01,\n         1.5025e-01, 3.0972e-01, 3.5529e-01, 6.1071e-02, 1.4278e-01, 3.4105e-01,\n         2.2514e-01, 3.0968e-01, 3.4789e-01, 1.1741e-01, 6.4193e-01, 4.3263e-01,\n         8.2897e-01, 3.0383e-01, 1.9442e-01, 2.3414e-01],\n        [6.5206e-01, 9.3341e-01, 1.7128e-01, 9.9670e-01, 5.8899e-01, 2.9243e-01,\n         6.4893e-01, 4.4286e-01, 3.7293e-01, 2.4734e-01, 2.7695e-01, 9.1249e-01,\n         4.5610e-01, 8.1299e-01, 1.4575e-02, 9.8996e-01, 1.3441e-02, 3.2445e-01,\n         5.5561e-01, 5.6412e-01, 4.9920e-02, 6.9508e-02, 8.8288e-01, 3.2686e-01,\n         3.6396e-01, 2.4173e-01, 5.9204e-02, 7.6440e-01],\n        [2.6102e-01, 8.9175e-01, 7.7200e-01, 1.4840e-02, 9.9413e-01, 4.2928e-01,\n         2.6026e-01, 8.3538e-02, 6.5961e-02, 1.1292e-01, 1.0101e-01, 6.1782e-01,\n         8.1577e-01, 8.8744e-01, 2.4259e-01, 6.9729e-01, 4.2485e-01, 8.1778e-01,\n         7.0504e-01, 2.7345e-01, 4.4491e-02, 4.5826e-01, 4.5831e-01, 4.6033e-01,\n         2.9650e-02, 9.6553e-01, 3.9153e-01, 4.1934e-01],\n        [3.9290e-01, 2.8996e-01, 3.1740e-01, 1.9517e-01, 2.4515e-01, 8.7852e-01,\n         4.8093e-01, 7.6558e-01, 1.9801e-01, 7.0618e-01, 9.3890e-01, 4.2911e-01,\n         4.7013e-01, 5.6747e-01, 2.5841e-01, 9.7797e-01, 6.9604e-01, 4.1509e-01,\n         3.1092e-01, 2.5917e-01, 9.3168e-01, 7.1051e-01, 3.6759e-01, 7.6158e-01,\n         4.7088e-01, 7.3053e-01, 8.3739e-01, 5.1338e-01],\n        [2.2120e-01, 4.8228e-01, 2.4121e-01, 2.9703e-01, 7.6609e-01, 2.1419e-01,\n         2.3183e-01, 6.6484e-02, 1.2964e-01, 8.9315e-01, 9.2226e-01, 5.1236e-01,\n         1.5541e-01, 9.0583e-01, 1.2645e-02, 9.4668e-02, 8.5733e-01, 7.6196e-01,\n         3.1770e-01, 1.9495e-01, 8.8192e-01, 6.9531e-01, 9.6872e-01, 7.7632e-01,\n         5.3852e-01, 7.2252e-01, 8.6472e-01, 5.1674e-01],\n        [8.3492e-02, 4.6393e-01, 6.7229e-02, 7.5066e-01, 6.9295e-01, 4.7649e-01,\n         6.8788e-01, 4.8012e-01, 5.6736e-03, 1.1133e-01, 1.9615e-01, 4.1976e-01,\n         5.5489e-01, 9.6650e-01, 2.4033e-01, 9.1806e-01, 9.6935e-01, 4.1752e-01,\n         6.4155e-01, 5.2992e-01, 6.6010e-01, 8.0134e-01, 5.4198e-01, 1.0505e-01,\n         7.9007e-01, 3.5880e-01, 7.8332e-01, 1.3831e-01],\n        [6.9182e-01, 3.4746e-01, 4.0826e-01, 1.9400e-01, 3.3552e-01, 8.8845e-01,\n         8.9403e-01, 9.6484e-02, 4.9008e-01, 3.5912e-01, 7.3026e-01, 3.3812e-01,\n         6.9693e-01, 5.9486e-01, 8.0989e-01, 5.9458e-01, 9.1777e-01, 7.3548e-01,\n         7.6171e-02, 9.0571e-01, 1.5684e-01, 9.3014e-01, 7.3669e-01, 7.6510e-01,\n         7.2420e-04, 7.8404e-01, 5.1297e-01, 6.4856e-01],\n        [5.1102e-01, 9.6385e-01, 8.8823e-02, 8.8608e-01, 7.4803e-02, 8.7776e-01,\n         8.3869e-01, 6.5740e-01, 5.8004e-01, 1.4369e-01, 5.1790e-01, 4.0532e-01,\n         5.2008e-01, 4.2862e-04, 5.4478e-01, 1.7789e-01, 8.8912e-01, 1.7537e-01,\n         4.4029e-01, 1.2151e-01, 2.8274e-01, 8.4317e-01, 6.1213e-01, 1.2848e-01,\n         9.9335e-01, 6.9603e-01, 7.6454e-01, 2.3706e-01],\n        [3.7988e-01, 8.6085e-01, 3.1607e-01, 4.0655e-02, 1.2804e-01, 3.6721e-01,\n         3.3773e-01, 6.8267e-01, 4.9244e-01, 3.3773e-01, 1.2412e-01, 6.8351e-01,\n         9.1286e-01, 2.2463e-01, 9.2642e-01, 5.8292e-01, 5.7951e-01, 4.4304e-02,\n         5.1839e-01, 8.2191e-01, 7.5847e-01, 8.9163e-01, 1.3816e-01, 1.8647e-01,\n         1.4037e-01, 8.4276e-01, 6.2358e-01, 5.1298e-02],\n        [2.9092e-01, 6.7517e-01, 8.1922e-02, 8.5443e-01, 1.2072e-02, 6.2687e-01,\n         1.9076e-01, 9.6557e-02, 2.0888e-01, 8.3181e-01, 3.2823e-01, 7.7921e-02,\n         5.1649e-01, 9.3350e-01, 5.3230e-01, 7.6638e-01, 2.4949e-01, 5.5720e-01,\n         1.9794e-01, 8.8776e-01, 2.0118e-01, 4.2440e-01, 5.4570e-01, 6.6060e-01,\n         8.6462e-01, 5.9325e-01, 9.0299e-01, 7.0561e-01],\n        [4.5201e-01, 1.0308e-01, 3.8214e-01, 1.8050e-01, 3.6700e-01, 8.8795e-02,\n         1.2217e-03, 5.8429e-01, 2.3016e-01, 6.5266e-01, 1.7660e-01, 2.4015e-01,\n         8.9225e-01, 8.9413e-01, 5.8625e-01, 7.4895e-01, 3.3731e-01, 5.5167e-01,\n         9.4754e-01, 2.4276e-01, 2.4539e-02, 7.9316e-01, 7.5848e-01, 6.3657e-02,\n         8.3505e-01, 2.8439e-01, 2.9657e-01, 1.6740e-01],\n        [6.0969e-01, 5.5575e-01, 8.3054e-02, 1.9853e-01, 7.2814e-01, 4.4712e-01,\n         9.7814e-01, 4.1508e-02, 4.4001e-01, 4.3875e-01, 7.6890e-02, 3.6248e-01,\n         1.8750e-01, 4.3977e-02, 9.9422e-03, 7.0421e-01, 8.2721e-01, 9.8730e-01,\n         6.2102e-02, 6.4044e-01, 1.0033e-01, 8.4350e-02, 5.2716e-01, 9.8191e-01,\n         4.2203e-01, 7.3316e-02, 7.2765e-01, 3.8220e-01],\n        [5.1274e-01, 9.2882e-02, 5.3445e-01, 9.6754e-01, 5.5370e-01, 8.3447e-01,\n         8.3927e-01, 9.1163e-01, 1.0941e-01, 7.6645e-01, 2.1297e-01, 7.3111e-01,\n         1.8603e-01, 6.0391e-01, 3.1642e-01, 3.4813e-01, 1.2537e-01, 7.5096e-01,\n         5.0255e-01, 3.6912e-01, 6.1153e-01, 3.5627e-01, 3.8059e-01, 6.9416e-01,\n         2.1983e-02, 4.5610e-01, 7.6910e-01, 9.1979e-01],\n        [4.1395e-01, 3.5282e-01, 8.3771e-03, 5.6834e-01, 7.9758e-01, 5.6675e-01,\n         6.9123e-01, 8.1286e-02, 7.6590e-01, 5.6307e-01, 3.4662e-02, 2.1288e-02,\n         7.0423e-01, 9.2545e-01, 4.3605e-01, 2.5914e-01, 8.4577e-01, 1.7586e-01,\n         7.0742e-01, 9.8810e-01, 3.8976e-02, 9.6878e-01, 3.0832e-02, 5.7956e-01,\n         1.5248e-01, 6.1516e-01, 1.4409e-01, 8.5016e-01],\n        [4.2959e-01, 1.9612e-02, 7.2284e-02, 9.0179e-02, 9.2482e-01, 7.2110e-01,\n         5.7712e-01, 9.2066e-01, 4.2313e-01, 4.7540e-01, 8.6885e-01, 1.7542e-01,\n         8.6114e-02, 6.0522e-01, 1.6315e-01, 4.2350e-01, 8.7455e-01, 1.5132e-01,\n         6.4942e-01, 9.4289e-01, 1.9562e-01, 1.2576e-01, 9.3690e-01, 4.6360e-01,\n         7.8645e-01, 1.6559e-01, 3.8222e-01, 9.7741e-01],\n        [3.5626e-02, 6.0154e-01, 1.9129e-01, 7.6236e-01, 2.7198e-01, 2.9090e-01,\n         2.8701e-01, 3.8609e-01, 4.8693e-01, 3.5769e-01, 6.4048e-01, 2.2936e-01,\n         8.3187e-01, 5.6028e-01, 1.4689e-01, 9.7450e-01, 4.7433e-01, 2.3052e-01,\n         5.4427e-01, 1.2702e-01, 8.8405e-01, 2.2411e-01, 7.3237e-01, 3.6632e-01,\n         8.4086e-01, 6.2660e-01, 7.9002e-01, 6.1036e-01],\n        [2.7183e-01, 3.1225e-01, 7.1504e-01, 3.7440e-01, 8.6885e-01, 8.8100e-01,\n         9.6752e-02, 3.7768e-02, 8.9816e-01, 2.1013e-01, 3.3178e-01, 2.1418e-01,\n         2.2149e-01, 3.8591e-01, 5.7994e-01, 3.8023e-01, 6.3130e-01, 3.0048e-01,\n         1.4610e-01, 6.0130e-01, 9.7419e-01, 4.0795e-01, 2.5533e-01, 9.3249e-02,\n         3.6756e-01, 9.3678e-01, 2.5716e-02, 6.9534e-01],\n        [5.6703e-01, 1.8332e-01, 6.5357e-01, 5.0310e-01, 7.7478e-01, 6.4971e-01,\n         9.0193e-01, 9.9622e-01, 3.5010e-01, 6.9025e-01, 6.6017e-01, 8.0495e-01,\n         9.6158e-01, 8.7566e-01, 7.2017e-01, 4.3526e-01, 2.5212e-01, 9.5166e-01,\n         3.4679e-02, 2.6642e-01, 1.3512e-01, 1.8321e-01, 2.7143e-01, 6.4109e-01,\n         5.6385e-02, 4.1800e-01, 3.5255e-01, 4.2533e-01],\n        [1.9070e-01, 8.3983e-02, 3.8401e-01, 6.1318e-01, 6.0961e-01, 2.3387e-01,\n         3.7566e-02, 4.3345e-01, 5.2671e-01, 2.1452e-01, 1.5439e-01, 3.8029e-01,\n         2.6971e-01, 1.2625e-01, 7.4582e-01, 3.4156e-01, 7.4604e-01, 4.8902e-01,\n         1.7430e-02, 3.3142e-01, 8.6774e-01, 4.6640e-01, 6.1341e-01, 9.0497e-01,\n         7.5982e-02, 9.7021e-01, 7.5160e-02, 4.6749e-01],\n        [3.3461e-01, 8.5024e-01, 2.9995e-01, 7.8350e-01, 9.1150e-02, 7.5142e-01,\n         3.1892e-01, 6.9830e-01, 1.1156e-01, 5.7708e-01, 5.7595e-01, 8.0435e-01,\n         6.0925e-01, 9.5336e-01, 6.6462e-01, 5.9901e-01, 6.8803e-01, 2.8688e-01,\n         7.5742e-01, 6.1467e-01, 1.8673e-01, 3.2659e-01, 2.2031e-01, 2.1247e-01,\n         3.3811e-01, 6.3787e-01, 6.5320e-03, 4.6173e-01],\n        [6.9900e-01, 1.7514e-01, 4.5012e-02, 9.6160e-01, 7.5957e-01, 7.0598e-01,\n         6.4606e-01, 5.9714e-01, 5.9411e-01, 3.1479e-01, 4.8235e-01, 5.9322e-02,\n         4.0546e-02, 6.5890e-01, 2.7690e-01, 9.1801e-01, 9.5835e-01, 6.2408e-01,\n         3.1930e-01, 3.1107e-01, 6.6133e-01, 1.3633e-01, 4.6140e-01, 2.8171e-01,\n         2.9274e-01, 2.0302e-01, 3.7317e-03, 9.2517e-01],\n        [2.1367e-01, 3.3773e-01, 4.2423e-01, 2.8328e-01, 7.8641e-01, 8.8686e-02,\n         2.4120e-01, 5.9273e-01, 5.6707e-01, 1.7248e-01, 8.5004e-01, 1.1141e-01,\n         1.0180e-01, 6.6100e-01, 7.8471e-01, 1.7401e-01, 4.0350e-01, 5.4550e-01,\n         8.5586e-01, 3.7666e-01, 8.9796e-01, 4.1477e-01, 1.7009e-01, 5.6486e-01,\n         8.8311e-01, 2.6782e-01, 8.4170e-01, 9.6935e-01],\n        [3.7028e-02, 7.2751e-01, 4.8267e-01, 1.3674e-01, 4.7647e-01, 8.2725e-01,\n         7.9779e-01, 7.8836e-01, 4.3955e-01, 8.3826e-02, 3.6992e-01, 1.9601e-01,\n         4.5500e-01, 3.6550e-01, 7.6903e-01, 9.4278e-01, 3.1335e-01, 3.1391e-01,\n         2.2324e-02, 2.2211e-01, 3.1994e-01, 9.8044e-01, 9.8013e-01, 9.9672e-01,\n         7.1123e-01, 3.3160e-01, 7.9742e-02, 4.6053e-01],\n        [9.4958e-01, 6.0265e-01, 3.1890e-01, 8.6793e-01, 3.9547e-01, 7.7906e-02,\n         1.8709e-01, 7.7015e-01, 4.6974e-01, 6.3287e-01, 1.9517e-01, 9.4686e-01,\n         6.8501e-01, 8.3755e-01, 8.8188e-01, 9.2697e-01, 5.9311e-01, 4.6115e-01,\n         6.3595e-01, 4.7321e-01, 2.9483e-01, 6.5098e-01, 4.9805e-01, 5.9545e-01,\n         6.8844e-01, 2.1442e-01, 2.6316e-01, 9.4612e-01],\n        [1.1891e-01, 7.5771e-01, 2.1308e-01, 7.8643e-01, 8.8975e-01, 4.6155e-01,\n         5.9275e-01, 8.4162e-01, 4.3154e-01, 8.7783e-01, 2.0482e-01, 3.9747e-01,\n         6.0382e-01, 5.5418e-02, 1.1791e-01, 3.0603e-01, 1.0622e-01, 7.3397e-01,\n         1.0363e-01, 3.6075e-01, 8.1500e-01, 8.1604e-01, 5.7974e-01, 9.7935e-01,\n         6.8097e-02, 4.1410e-01, 1.6509e-01, 5.5208e-01]])"
     },
     "execution_count": 20,
     "metadata": {},
     "output_type": "execute_result"
    }
   ],
   "source": [
    "X"
   ],
   "metadata": {
    "collapsed": false
   }
  },
  {
   "cell_type": "code",
   "execution_count": 23,
   "outputs": [],
   "source": [
    "X = X.view(-1, 28*28)\n",
    "output = net(X)"
   ],
   "metadata": {
    "collapsed": false
   }
  },
  {
   "cell_type": "code",
   "execution_count": 24,
   "outputs": [
    {
     "data": {
      "text/plain": "tensor([[-2.3840, -2.3652, -2.2510, -2.3051, -2.1948, -2.2533, -2.3428, -2.2581,\n         -2.2657, -2.4300]], grad_fn=<LogSoftmaxBackward0>)"
     },
     "execution_count": 24,
     "metadata": {},
     "output_type": "execute_result"
    }
   ],
   "source": [
    "output"
   ],
   "metadata": {
    "collapsed": false
   }
  },
  {
   "cell_type": "code",
   "execution_count": null,
   "outputs": [],
   "source": [],
   "metadata": {
    "collapsed": false
   }
  }
 ],
 "metadata": {
  "kernelspec": {
   "display_name": "Python 3",
   "language": "python",
   "name": "python3"
  },
  "language_info": {
   "codemirror_mode": {
    "name": "ipython",
    "version": 2
   },
   "file_extension": ".py",
   "mimetype": "text/x-python",
   "name": "python",
   "nbconvert_exporter": "python",
   "pygments_lexer": "ipython2",
   "version": "2.7.6"
  }
 },
 "nbformat": 4,
 "nbformat_minor": 0
}
